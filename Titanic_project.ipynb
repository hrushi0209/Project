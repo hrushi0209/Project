{
 "cells": [
  {
   "cell_type": "markdown",
   "id": "4d4a27cc",
   "metadata": {},
   "source": [
    "#### Problem Statement:- \n",
    "The Titanic Problem is based on the sinking of the ‘Unsinkable’ ship Titanic in early 1912. It gives you information about multiple people like their ages, sexes, sibling counts, embarkment points, and whether or not they survived the disaster. Based on these features, you have to predict if an arbitrary passenger on Titanic would survive the sinking or not. "
   ]
  },
  {
   "cell_type": "code",
   "execution_count": 82,
   "id": "a803ac76",
   "metadata": {},
   "outputs": [],
   "source": [
    "import pandas as pd\n",
    "import numpy as np\n",
    "from sklearn.preprocessing import StandardScaler\n",
    "from sklearn.linear_model import LinearRegression\n",
    "from sklearn.ensemble import RandomForestRegressor\n",
    "from sklearn.ensemble import RandomForestClassifier\n",
    "from sklearn.tree import DecisionTreeRegressor\n",
    "from sklearn.linear_model import Lasso\n",
    "from sklearn.model_selection import cross_val_score\n",
    "from sklearn.model_selection  import train_test_split\n",
    "from sklearn.metrics import r2_score,mean_squared_error,mean_absolute_error\n",
    "from sklearn import metrics\n",
    "import statsmodels.api as sm\n",
    "from sklearn.linear_model import LogisticRegression\n",
    "from sklearn.neighbors import KNeighborsClassifier\n",
    "from statsmodels.stats.outliers_influence import variance_inflation_factor\n",
    "from sklearn.metrics import accuracy_score, confusion_matrix, classification_report\n",
    "import matplotlib.pyplot as plt\n",
    "import seaborn as sns\n",
    "%matplotlib inline\n",
    "import pickle\n",
    "import warnings \n",
    "warnings.filterwarnings('ignore')"
   ]
  },
  {
   "cell_type": "code",
   "execution_count": null,
   "id": "f9d1fbfc",
   "metadata": {},
   "outputs": [],
   "source": [
    "data = pd.read_csv(\"C:/Users/Hrushikesh/Desktop/dataset1-master/titanic_train.csv\")"
   ]
  },
  {
   "cell_type": "code",
   "execution_count": null,
   "id": "c35a4ee4",
   "metadata": {},
   "outputs": [],
   "source": [
    "data.head()"
   ]
  },
  {
   "cell_type": "markdown",
   "id": "375f3720",
   "metadata": {},
   "source": [
    "##### Observations\n",
    "1)The Dataset contains both numerical and categorical data\n",
    "\n",
    "2)Columnsn Age and Fare contains continuous data\n",
    "\n",
    "3)Columns Survived, Sex, Embarked contains categorical data\n",
    "\n",
    "4)Columns Sibsp and Parch contains discrit data"
   ]
  },
  {
   "cell_type": "code",
   "execution_count": null,
   "id": "4594459b",
   "metadata": {},
   "outputs": [],
   "source": [
    "data.shape"
   ]
  },
  {
   "cell_type": "code",
   "execution_count": null,
   "id": "cb5b3f9c",
   "metadata": {},
   "outputs": [],
   "source": [
    "data.dtypes"
   ]
  },
  {
   "cell_type": "code",
   "execution_count": null,
   "id": "94223bf1",
   "metadata": {},
   "outputs": [],
   "source": [
    "data.info()"
   ]
  },
  {
   "cell_type": "code",
   "execution_count": null,
   "id": "0cb27813",
   "metadata": {},
   "outputs": [],
   "source": [
    "data.isna().sum()"
   ]
  },
  {
   "cell_type": "code",
   "execution_count": null,
   "id": "e6bbb43d",
   "metadata": {},
   "outputs": [],
   "source": [
    "sns.heatmap(data.isna())"
   ]
  },
  {
   "cell_type": "markdown",
   "id": "f067bc75",
   "metadata": {},
   "source": [
    "Here we can clearly see that the presence of white lines indicates the missing values in the columns."
   ]
  },
  {
   "cell_type": "code",
   "execution_count": null,
   "id": "948a1361",
   "metadata": {},
   "outputs": [],
   "source": [
    "data['Survived'].unique()"
   ]
  },
  {
   "cell_type": "markdown",
   "id": "008b4b2d",
   "metadata": {},
   "source": [
    "Here we can see that there are two unique values present in the target 0 and 1. 0 = No, 1 = Yes. "
   ]
  },
  {
   "cell_type": "code",
   "execution_count": null,
   "id": "b1167d5c",
   "metadata": {},
   "outputs": [],
   "source": [
    "data.describe()"
   ]
  },
  {
   "cell_type": "markdown",
   "id": "186f33dd",
   "metadata": {},
   "source": [
    "In summarizing the data we can also observe that the dataset seems to be having more outliers as well as skewness in the data. The column Age and Fare has huge outliers from the max of 80 and 512 respectively which is quite far from their mean with their second quantile median(50%)."
   ]
  },
  {
   "cell_type": "markdown",
   "id": "1ae6849b",
   "metadata": {},
   "source": [
    "# Data visualization"
   ]
  },
  {
   "cell_type": "code",
   "execution_count": null,
   "id": "032338dc",
   "metadata": {},
   "outputs": [],
   "source": [
    "data.hist(figsize=(20,13))"
   ]
  },
  {
   "cell_type": "code",
   "execution_count": null,
   "id": "2e8f27b8",
   "metadata": {},
   "outputs": [],
   "source": [
    "sns.countplot(data['Survived'])"
   ]
  },
  {
   "cell_type": "markdown",
   "id": "64cc7402",
   "metadata": {},
   "source": [
    "The Label survived as two classes 0 and 1. We can clearly see that the passenger survived in this disaster are less which  we canobserve in class as mentioned as 1.\n"
   ]
  },
  {
   "cell_type": "code",
   "execution_count": null,
   "id": "50acf0bc",
   "metadata": {},
   "outputs": [],
   "source": [
    "sns.countplot(data['Pclass'])"
   ]
  },
  {
   "cell_type": "markdown",
   "id": "debfe71a",
   "metadata": {},
   "source": [
    "Here we can see that passengers traveling in the third class are more and they are not survived. The passengers traveling in the 1st and 2nd class are less and they are more likely to be survived"
   ]
  },
  {
   "cell_type": "code",
   "execution_count": null,
   "id": "d534a887",
   "metadata": {},
   "outputs": [],
   "source": [
    "print(data[\"Sex\"].value_counts())\n",
    "sns.countplot(data['Sex'])\n"
   ]
  },
  {
   "cell_type": "markdown",
   "id": "72f07253",
   "metadata": {},
   "source": [
    "Here we can see that there are two classes male and female. male passengers are 577 and female passengers are 314. Here by observing the data we can see that the survival rate of female passengers are more than male passengers"
   ]
  },
  {
   "cell_type": "code",
   "execution_count": null,
   "id": "1b2b0aed",
   "metadata": {},
   "outputs": [],
   "source": [
    "print(data[\"Embarked\"].value_counts())\n",
    "sns.countplot(data['Embarked'])"
   ]
  },
  {
   "cell_type": "markdown",
   "id": "24d1a3bb",
   "metadata": {},
   "source": [
    "Here there are three classes S = Southampton, C = Cherbourg and Q = Queenstown. These are the places where passengers are boarded from. We can see that majority of passengers are boarded from \"S\" and \"Q\" has less passengers."
   ]
  },
  {
   "cell_type": "code",
   "execution_count": null,
   "id": "64a75f87",
   "metadata": {},
   "outputs": [],
   "source": [
    "print(data[\"Parch\"].value_counts())\n",
    "sns.factorplot('Parch',kind='count',data=data,hue='Survived')"
   ]
  },
  {
   "cell_type": "markdown",
   "id": "cb74dcb7",
   "metadata": {},
   "source": [
    "From this plot we can see most of the passengers are travelled alone which is named as 0 in the plot. We can say almost 80% of the passengers are alone, 15% of the passengers are travelled either with their children or parents and remaining 5% of them are travelled with group."
   ]
  },
  {
   "cell_type": "markdown",
   "id": "28765595",
   "metadata": {},
   "source": [
    "# Correlation"
   ]
  },
  {
   "cell_type": "code",
   "execution_count": null,
   "id": "52b0fc13",
   "metadata": {},
   "outputs": [],
   "source": [
    "corr = data.corr()\n",
    "corr"
   ]
  },
  {
   "cell_type": "code",
   "execution_count": null,
   "id": "3bccfa4b",
   "metadata": {},
   "outputs": [],
   "source": [
    "plt.figure(figsize=(12,8))\n",
    "sns.heatmap(data.corr(), linewidths=.1,annot=True)\n",
    "plt.yticks(rotation=0);"
   ]
  },
  {
   "cell_type": "markdown",
   "id": "131f628e",
   "metadata": {},
   "source": [
    "This heat map contains both positive and negative correlation.\n",
    "\n",
    "We can observe that the feature column Parch and Fare are positively correlated with the target variable \"Survived\". Pclass is highly negatively correlated with the target variable \"Survived\". Also the columns SibSp, Age and PassengerId are negatively correlated with the label. The feature columns SibSp and Parch are positively correlated with each other. Light shades are highly correlated. Dark shades are less correlated. Also there are some independent variables which shows highly negative correlattion between each other. So we can check the multicollinearity problem using VIF if necessary."
   ]
  },
  {
   "cell_type": "markdown",
   "id": "e70e8c2a",
   "metadata": {},
   "source": [
    "# Dropping Columns"
   ]
  },
  {
   "cell_type": "markdown",
   "id": "7e051070",
   "metadata": {},
   "source": [
    "we can see that passengerid columns has no correlation with target variables, so we will drop it"
   ]
  },
  {
   "cell_type": "code",
   "execution_count": null,
   "id": "d88a05db",
   "metadata": {},
   "outputs": [],
   "source": [
    "data.drop('PassengerId', axis=1,inplace=True)\n",
    "data.drop('Name', axis=1, inplace=True)"
   ]
  },
  {
   "cell_type": "code",
   "execution_count": null,
   "id": "98eeed11",
   "metadata": {},
   "outputs": [],
   "source": [
    "data.head()"
   ]
  },
  {
   "cell_type": "markdown",
   "id": "3c380571",
   "metadata": {},
   "source": [
    "# Outliers"
   ]
  },
  {
   "cell_type": "code",
   "execution_count": null,
   "id": "972cbbae",
   "metadata": {},
   "outputs": [],
   "source": [
    "data.plot(kind='box',subplots=True,layout=(4,4),figsize=(15,13))"
   ]
  },
  {
   "cell_type": "markdown",
   "id": "5b3f321b",
   "metadata": {},
   "source": [
    "From the above boxplot we can observe that outliers are present in Age,Sibsp,,Parch,Fare. We will not remove outliers from SibSP and Parch as they contain discrit data.But we will remove outliers from Age and Fare as they contain continuous data."
   ]
  },
  {
   "cell_type": "markdown",
   "id": "6c497d73",
   "metadata": {},
   "source": [
    "# Misssing Values"
   ]
  },
  {
   "cell_type": "code",
   "execution_count": null,
   "id": "93cd4007",
   "metadata": {},
   "outputs": [],
   "source": [
    "data.isna().sum()"
   ]
  },
  {
   "cell_type": "markdown",
   "id": "f3e92c11",
   "metadata": {},
   "source": [
    "There are missing values present in the columns Age, Cabin, Embarked. Since the Age columns is importatnt we need to fill the missing values.\n",
    "\n",
    "Age is a numerical column so we use median method to fill the missing values\n",
    "\n",
    "Embarked is a categorical column so we use mode method to fill the missing values.\n",
    "\n",
    "Cabin contain aphanumeric column and contain plenty of missing values so we cant use mean median mode method to fill the missing values.So we can either delete that column or we can fill that out with unknown values by using fillna() method."
   ]
  },
  {
   "cell_type": "code",
   "execution_count": null,
   "id": "3f5a1223",
   "metadata": {},
   "outputs": [],
   "source": [
    "data['Age'] = data['Age'].fillna(data['Age'].median())"
   ]
  },
  {
   "cell_type": "code",
   "execution_count": null,
   "id": "7bad111d",
   "metadata": {},
   "outputs": [],
   "source": [
    "data['Embarked'] = data['Embarked'].fillna(data['Embarked'].mode()[0])"
   ]
  },
  {
   "cell_type": "code",
   "execution_count": null,
   "id": "eba29d98",
   "metadata": {},
   "outputs": [],
   "source": [
    "data['Cabin'] = data['Cabin'].fillna('U')"
   ]
  },
  {
   "cell_type": "code",
   "execution_count": null,
   "id": "28eaf635",
   "metadata": {},
   "outputs": [],
   "source": [
    "data.isna().sum()"
   ]
  },
  {
   "cell_type": "code",
   "execution_count": null,
   "id": "7d01a479",
   "metadata": {},
   "outputs": [],
   "source": [
    "# Visualizing the missing value after treating it using heat map.\n",
    "sns.heatmap(data.isnull())"
   ]
  },
  {
   "cell_type": "markdown",
   "id": "5a36ffc5",
   "metadata": {},
   "source": [
    "So we fill the null values nno null values are present in the dataset"
   ]
  },
  {
   "cell_type": "markdown",
   "id": "bebb60cc",
   "metadata": {},
   "source": [
    "# Removing Outliers"
   ]
  },
  {
   "cell_type": "code",
   "execution_count": null,
   "id": "413f018c",
   "metadata": {},
   "outputs": [],
   "source": [
    "variables = data[['Age','Fare']]"
   ]
  },
  {
   "cell_type": "code",
   "execution_count": null,
   "id": "e4435337",
   "metadata": {},
   "outputs": [],
   "source": [
    "from scipy.stats import zscore"
   ]
  },
  {
   "cell_type": "code",
   "execution_count": null,
   "id": "624fcaf3",
   "metadata": {},
   "outputs": [],
   "source": [
    "z=np.abs(zscore(variables))\n",
    "# Creating new dataframe\n",
    "new_data = data[(z<3).all(axis=1)]\n",
    "new_data.head()"
   ]
  },
  {
   "cell_type": "code",
   "execution_count": null,
   "id": "4205f9ab",
   "metadata": {},
   "outputs": [],
   "source": [
    "print(data.shape)\n",
    "print(new_data.shape)"
   ]
  },
  {
   "cell_type": "code",
   "execution_count": null,
   "id": "aa39ead3",
   "metadata": {},
   "outputs": [],
   "source": [
    "data_loss = (891-864)/891*100\n",
    "data_loss\n"
   ]
  },
  {
   "cell_type": "markdown",
   "id": "7e2c23f7",
   "metadata": {},
   "source": [
    "This is the percentage loss of our data. Here we are not loosing much data so i am removing the outliers"
   ]
  },
  {
   "cell_type": "code",
   "execution_count": null,
   "id": "cf619114",
   "metadata": {},
   "outputs": [],
   "source": [
    "# 1st quantile\n",
    "Q1=variables.quantile(0.25)\n",
    "\n",
    "# 3rd quantile\n",
    "Q3=variables.quantile(0.75)\n",
    "\n",
    "# IQR\n",
    "IQR=Q3 - Q1\n",
    "\n",
    "data1=data[~((data < (Q1 - 1.5 * IQR)) |(data > (Q3 + 1.5 * IQR))).any(axis=1)]"
   ]
  },
  {
   "cell_type": "code",
   "execution_count": null,
   "id": "230da108",
   "metadata": {},
   "outputs": [],
   "source": [
    "print(data.shape)\n",
    "print(data1.shape)"
   ]
  },
  {
   "cell_type": "markdown",
   "id": "c35b0cba",
   "metadata": {},
   "source": [
    "# Skewness"
   ]
  },
  {
   "cell_type": "code",
   "execution_count": null,
   "id": "fd0b7265",
   "metadata": {},
   "outputs": [],
   "source": [
    "new_data.skew()"
   ]
  },
  {
   "cell_type": "markdown",
   "id": "79ca2d1c",
   "metadata": {},
   "source": [
    "We can observe the features Pclass, SibSp, Parch and Fare has skewness. Since Pclass is categorical column so we should not remove skewness. Let's remove skewness in Age, SibSp, Parch and Fare which contains numerical data"
   ]
  },
  {
   "cell_type": "code",
   "execution_count": null,
   "id": "5cc80a1d",
   "metadata": {},
   "outputs": [],
   "source": [
    "skewed_features = [\"SibSp\",\"Parch\",\"Fare\"]"
   ]
  },
  {
   "cell_type": "code",
   "execution_count": null,
   "id": "2e7966f2",
   "metadata": {},
   "outputs": [],
   "source": [
    "from sklearn.preprocessing import PowerTransformer\n",
    "scaler = PowerTransformer(method='yeo-johnson')\n",
    "'''\n",
    "parameters:\n",
    "method = 'box-cox' or 'yeo-johnson'\n",
    "'''"
   ]
  },
  {
   "cell_type": "code",
   "execution_count": null,
   "id": "e5ecee94",
   "metadata": {},
   "outputs": [],
   "source": [
    "new_data[skewed_features] = scaler.fit_transform(new_data[skewed_features].values)\n",
    "new_data[skewed_features].head()"
   ]
  },
  {
   "cell_type": "code",
   "execution_count": null,
   "id": "2938543c",
   "metadata": {},
   "outputs": [],
   "source": [
    "plt.figure(figsize=(20,25), facecolor='white')\n",
    "plotnumber = 1\n",
    "\n",
    "for column in data[skewed_features]:\n",
    "    if plotnumber<=9:\n",
    "        ax = plt.subplot(3,3,plotnumber)\n",
    "        sns.distplot(new_data[column])\n",
    "        plt.xlabel(column,fontsize=20)\n",
    "    plotnumber+=1\n",
    "plt.show()"
   ]
  },
  {
   "cell_type": "markdown",
   "id": "42de1b69",
   "metadata": {},
   "source": [
    "The data is not normal but the skewness has got removed compared to the old data."
   ]
  },
  {
   "cell_type": "markdown",
   "id": "aeb9c309",
   "metadata": {},
   "source": [
    "# Encoding the data using LabelEncoder"
   ]
  },
  {
   "cell_type": "code",
   "execution_count": null,
   "id": "34403ad6",
   "metadata": {},
   "outputs": [],
   "source": [
    "cols = ['Sex','Ticket','Cabin','Embarked']"
   ]
  },
  {
   "cell_type": "code",
   "execution_count": null,
   "id": "8853eaf0",
   "metadata": {},
   "outputs": [],
   "source": [
    "from sklearn.preprocessing import LabelEncoder"
   ]
  },
  {
   "cell_type": "code",
   "execution_count": null,
   "id": "fba22b0b",
   "metadata": {},
   "outputs": [],
   "source": [
    "LE = LabelEncoder()"
   ]
  },
  {
   "cell_type": "code",
   "execution_count": null,
   "id": "7f3dc613",
   "metadata": {},
   "outputs": [],
   "source": [
    "new_data[cols]= new_data[cols].apply(LE.fit_transform)"
   ]
  },
  {
   "cell_type": "code",
   "execution_count": null,
   "id": "95c398e4",
   "metadata": {},
   "outputs": [],
   "source": [
    "new_data[cols].head()"
   ]
  },
  {
   "cell_type": "code",
   "execution_count": null,
   "id": "37fa2342",
   "metadata": {},
   "outputs": [],
   "source": [
    "new_data.head()"
   ]
  },
  {
   "cell_type": "markdown",
   "id": "49aef137",
   "metadata": {},
   "source": [
    "# Separating the independat variable into x and y"
   ]
  },
  {
   "cell_type": "code",
   "execution_count": null,
   "id": "61adeb9f",
   "metadata": {},
   "outputs": [],
   "source": [
    "x = new_data.drop('Survived', axis=1)\n",
    "y = new_data['Survived']"
   ]
  },
  {
   "cell_type": "code",
   "execution_count": null,
   "id": "767cdaba",
   "metadata": {},
   "outputs": [],
   "source": [
    "x.head()"
   ]
  },
  {
   "cell_type": "code",
   "execution_count": null,
   "id": "21f65cbe",
   "metadata": {},
   "outputs": [],
   "source": [
    "y.value_counts()"
   ]
  },
  {
   "cell_type": "markdown",
   "id": "02bb212b",
   "metadata": {},
   "source": [
    "The data is not balanced. Since we have class imbalancing issue in the dataset so we need to balance it. Here I am using oversampling method to balance the class."
   ]
  },
  {
   "cell_type": "code",
   "execution_count": null,
   "id": "598c6463",
   "metadata": {},
   "outputs": [],
   "source": [
    "x.shape, y.shape"
   ]
  },
  {
   "cell_type": "markdown",
   "id": "a57f8eef",
   "metadata": {},
   "source": [
    "# Oversampling"
   ]
  },
  {
   "cell_type": "code",
   "execution_count": 69,
   "id": "28971158",
   "metadata": {},
   "outputs": [
    {
     "name": "stdout",
     "output_type": "stream",
     "text": [
      "Collecting imblearn\n",
      "  Downloading imblearn-0.0-py2.py3-none-any.whl (1.9 kB)\n",
      "Collecting imbalanced-learn\n",
      "  Downloading imbalanced_learn-0.8.1-py3-none-any.whl (189 kB)\n",
      "Requirement already satisfied: joblib>=0.11 in c:\\users\\hrushikesh\\anaconda3\\lib\\site-packages (from imbalanced-learn->imblearn) (1.0.1)\n",
      "Requirement already satisfied: numpy>=1.13.3 in c:\\users\\hrushikesh\\anaconda3\\lib\\site-packages (from imbalanced-learn->imblearn) (1.20.1)\n",
      "Requirement already satisfied: scipy>=0.19.1 in c:\\users\\hrushikesh\\anaconda3\\lib\\site-packages (from imbalanced-learn->imblearn) (1.6.2)\n",
      "Requirement already satisfied: scikit-learn>=0.24 in c:\\users\\hrushikesh\\anaconda3\\lib\\site-packages (from imbalanced-learn->imblearn) (0.24.1)\n",
      "Requirement already satisfied: threadpoolctl>=2.0.0 in c:\\users\\hrushikesh\\anaconda3\\lib\\site-packages (from scikit-learn>=0.24->imbalanced-learn->imblearn) (2.1.0)\n",
      "Installing collected packages: imbalanced-learn, imblearn\n",
      "Successfully installed imbalanced-learn-0.8.1 imblearn-0.0\n"
     ]
    }
   ],
   "source": [
    "!pip install imblearn\n"
   ]
  },
  {
   "cell_type": "code",
   "execution_count": 70,
   "id": "ae15754c",
   "metadata": {},
   "outputs": [],
   "source": [
    "from imblearn.over_sampling import SMOTE\n",
    "SM = SMOTE()\n",
    "x, y = SM.fit_resample(x,y)\n"
   ]
  },
  {
   "cell_type": "code",
   "execution_count": 71,
   "id": "fa8b6523",
   "metadata": {},
   "outputs": [
    {
     "data": {
      "text/plain": [
       "0    537\n",
       "1    537\n",
       "Name: Survived, dtype: int64"
      ]
     },
     "execution_count": 71,
     "metadata": {},
     "output_type": "execute_result"
    }
   ],
   "source": [
    "y.value_counts()"
   ]
  },
  {
   "cell_type": "markdown",
   "id": "03dcb540",
   "metadata": {},
   "source": [
    "Data is balanced in both classes"
   ]
  },
  {
   "cell_type": "markdown",
   "id": "f747bc6b",
   "metadata": {},
   "source": [
    "# Scalling Data"
   ]
  },
  {
   "cell_type": "code",
   "execution_count": 72,
   "id": "b0f0ca15",
   "metadata": {},
   "outputs": [
    {
     "data": {
      "text/plain": [
       "((1074, 9), (1074,))"
      ]
     },
     "execution_count": 72,
     "metadata": {},
     "output_type": "execute_result"
    }
   ],
   "source": [
    "x.shape, y.shape"
   ]
  },
  {
   "cell_type": "code",
   "execution_count": 73,
   "id": "0862ca4a",
   "metadata": {},
   "outputs": [],
   "source": [
    "\n",
    "from sklearn.preprocessing import MinMaxScaler\n",
    "mms=MinMaxScaler()\n",
    "x = pd.DataFrame(mms.fit_transform(x), columns=x.columns)"
   ]
  },
  {
   "cell_type": "code",
   "execution_count": 74,
   "id": "0ef19488",
   "metadata": {},
   "outputs": [
    {
     "data": {
      "text/html": [
       "<div>\n",
       "<style scoped>\n",
       "    .dataframe tbody tr th:only-of-type {\n",
       "        vertical-align: middle;\n",
       "    }\n",
       "\n",
       "    .dataframe tbody tr th {\n",
       "        vertical-align: top;\n",
       "    }\n",
       "\n",
       "    .dataframe thead th {\n",
       "        text-align: right;\n",
       "    }\n",
       "</style>\n",
       "<table border=\"1\" class=\"dataframe\">\n",
       "  <thead>\n",
       "    <tr style=\"text-align: right;\">\n",
       "      <th></th>\n",
       "      <th>Pclass</th>\n",
       "      <th>Sex</th>\n",
       "      <th>Age</th>\n",
       "      <th>SibSp</th>\n",
       "      <th>Parch</th>\n",
       "      <th>Ticket</th>\n",
       "      <th>Fare</th>\n",
       "      <th>Cabin</th>\n",
       "      <th>Embarked</th>\n",
       "    </tr>\n",
       "  </thead>\n",
       "  <tbody>\n",
       "    <tr>\n",
       "      <th>0</th>\n",
       "      <td>1.0</td>\n",
       "      <td>1.0</td>\n",
       "      <td>0.329064</td>\n",
       "      <td>0.83479</td>\n",
       "      <td>0.0</td>\n",
       "      <td>0.776276</td>\n",
       "      <td>0.432617</td>\n",
       "      <td>1.000000</td>\n",
       "      <td>1.0</td>\n",
       "    </tr>\n",
       "    <tr>\n",
       "      <th>1</th>\n",
       "      <td>0.0</td>\n",
       "      <td>0.0</td>\n",
       "      <td>0.573041</td>\n",
       "      <td>0.83479</td>\n",
       "      <td>0.0</td>\n",
       "      <td>0.881381</td>\n",
       "      <td>0.848336</td>\n",
       "      <td>0.518519</td>\n",
       "      <td>0.0</td>\n",
       "    </tr>\n",
       "    <tr>\n",
       "      <th>2</th>\n",
       "      <td>1.0</td>\n",
       "      <td>0.0</td>\n",
       "      <td>0.390058</td>\n",
       "      <td>0.00000</td>\n",
       "      <td>0.0</td>\n",
       "      <td>0.983483</td>\n",
       "      <td>0.448186</td>\n",
       "      <td>1.000000</td>\n",
       "      <td>1.0</td>\n",
       "    </tr>\n",
       "    <tr>\n",
       "      <th>3</th>\n",
       "      <td>0.0</td>\n",
       "      <td>0.0</td>\n",
       "      <td>0.527295</td>\n",
       "      <td>0.83479</td>\n",
       "      <td>0.0</td>\n",
       "      <td>0.072072</td>\n",
       "      <td>0.794478</td>\n",
       "      <td>0.355556</td>\n",
       "      <td>1.0</td>\n",
       "    </tr>\n",
       "    <tr>\n",
       "      <th>4</th>\n",
       "      <td>1.0</td>\n",
       "      <td>1.0</td>\n",
       "      <td>0.527295</td>\n",
       "      <td>0.00000</td>\n",
       "      <td>0.0</td>\n",
       "      <td>0.699700</td>\n",
       "      <td>0.450936</td>\n",
       "      <td>1.000000</td>\n",
       "      <td>1.0</td>\n",
       "    </tr>\n",
       "  </tbody>\n",
       "</table>\n",
       "</div>"
      ],
      "text/plain": [
       "   Pclass  Sex       Age    SibSp  Parch    Ticket      Fare     Cabin  \\\n",
       "0     1.0  1.0  0.329064  0.83479    0.0  0.776276  0.432617  1.000000   \n",
       "1     0.0  0.0  0.573041  0.83479    0.0  0.881381  0.848336  0.518519   \n",
       "2     1.0  0.0  0.390058  0.00000    0.0  0.983483  0.448186  1.000000   \n",
       "3     0.0  0.0  0.527295  0.83479    0.0  0.072072  0.794478  0.355556   \n",
       "4     1.0  1.0  0.527295  0.00000    0.0  0.699700  0.450936  1.000000   \n",
       "\n",
       "   Embarked  \n",
       "0       1.0  \n",
       "1       0.0  \n",
       "2       1.0  \n",
       "3       1.0  \n",
       "4       1.0  "
      ]
     },
     "execution_count": 74,
     "metadata": {},
     "output_type": "execute_result"
    }
   ],
   "source": [
    "x.head()"
   ]
  },
  {
   "cell_type": "markdown",
   "id": "22cf27e0",
   "metadata": {},
   "source": [
    "# Modelling"
   ]
  },
  {
   "cell_type": "code",
   "execution_count": 76,
   "id": "0cda086e",
   "metadata": {},
   "outputs": [],
   "source": [
    "from sklearn.tree import DecisionTreeClassifier\n",
    "from sklearn.model_selection import train_test_split\n",
    "from sklearn.metrics import accuracy_score\n"
   ]
  },
  {
   "cell_type": "code",
   "execution_count": 77,
   "id": "f9a059d5",
   "metadata": {},
   "outputs": [
    {
     "name": "stdout",
     "output_type": "stream",
     "text": [
      "Best accuracy is  0.8637770897832817  on Random_state  45\n"
     ]
    }
   ],
   "source": [
    "maxAccu=0\n",
    "maxRS=0\n",
    "for i in range(1,200):\n",
    "    x_train,x_test,y_train,y_test = train_test_split(x,y,test_size=.30, random_state =i)\n",
    "    DT = DecisionTreeClassifier()\n",
    "    DT.fit(x_train, y_train)\n",
    "    pred = DT.predict(x_test)\n",
    "    acc=accuracy_score(y_test, pred)\n",
    "    if acc>maxAccu:\n",
    "        maxAccu=acc\n",
    "        maxRS=i\n",
    "print(\"Best accuracy is \",maxAccu,\" on Random_state \",maxRS)"
   ]
  },
  {
   "cell_type": "markdown",
   "id": "3711267e",
   "metadata": {},
   "source": [
    "## Creating Train Test Split"
   ]
  },
  {
   "cell_type": "code",
   "execution_count": 78,
   "id": "b4284e51",
   "metadata": {},
   "outputs": [],
   "source": [
    "x_train,x_test,y_train,y_test=train_test_split(x,y,test_size=.30,random_state=maxRS)\n"
   ]
  },
  {
   "cell_type": "markdown",
   "id": "6caffb7f",
   "metadata": {},
   "source": [
    "# Decision Tree"
   ]
  },
  {
   "cell_type": "code",
   "execution_count": 80,
   "id": "c75d2d3e",
   "metadata": {},
   "outputs": [
    {
     "name": "stdout",
     "output_type": "stream",
     "text": [
      "0.8544891640866873\n",
      "[[131  23]\n",
      " [ 24 145]]\n",
      "              precision    recall  f1-score   support\n",
      "\n",
      "           0       0.85      0.85      0.85       154\n",
      "           1       0.86      0.86      0.86       169\n",
      "\n",
      "    accuracy                           0.85       323\n",
      "   macro avg       0.85      0.85      0.85       323\n",
      "weighted avg       0.85      0.85      0.85       323\n",
      "\n"
     ]
    }
   ],
   "source": [
    "DT = DecisionTreeClassifier()\n",
    "DT.fit(x_train,y_train)\n",
    "predDT = DT.predict(x_test)\n",
    "\n",
    "print(accuracy_score(y_test, predDT))\n",
    "print(confusion_matrix(y_test, predDT))\n",
    "print(classification_report(y_test,predDT))\n"
   ]
  },
  {
   "cell_type": "markdown",
   "id": "4762ad9b",
   "metadata": {},
   "source": [
    "Here we are getting 85% Accuracy"
   ]
  },
  {
   "cell_type": "markdown",
   "id": "e8964168",
   "metadata": {},
   "source": [
    "# Random Forest Classifier"
   ]
  },
  {
   "cell_type": "code",
   "execution_count": 84,
   "id": "b31cd9c1",
   "metadata": {},
   "outputs": [
    {
     "name": "stdout",
     "output_type": "stream",
     "text": [
      "0.8730650154798761\n",
      "[[135  19]\n",
      " [ 22 147]]\n",
      "              precision    recall  f1-score   support\n",
      "\n",
      "           0       0.86      0.88      0.87       154\n",
      "           1       0.89      0.87      0.88       169\n",
      "\n",
      "    accuracy                           0.87       323\n",
      "   macro avg       0.87      0.87      0.87       323\n",
      "weighted avg       0.87      0.87      0.87       323\n",
      "\n"
     ]
    }
   ],
   "source": [
    "RF=RandomForestClassifier()\n",
    "RF.fit(x_train,y_train)\n",
    "predRF = RF.predict(x_test)\n",
    "\n",
    "print(accuracy_score(y_test, predRF))\n",
    "print(confusion_matrix(y_test, predRF))\n",
    "print(classification_report(y_test,predRF))"
   ]
  },
  {
   "cell_type": "markdown",
   "id": "2750d3cf",
   "metadata": {},
   "source": [
    "Here We are getting 87% Accuracy"
   ]
  },
  {
   "cell_type": "markdown",
   "id": "bd6bcf7f",
   "metadata": {},
   "source": [
    "# Support Vector Machine Classifier"
   ]
  },
  {
   "cell_type": "code",
   "execution_count": 85,
   "id": "32a01568",
   "metadata": {},
   "outputs": [
    {
     "name": "stdout",
     "output_type": "stream",
     "text": [
      "0.848297213622291\n",
      "[[139  15]\n",
      " [ 34 135]]\n",
      "              precision    recall  f1-score   support\n",
      "\n",
      "           0       0.80      0.90      0.85       154\n",
      "           1       0.90      0.80      0.85       169\n",
      "\n",
      "    accuracy                           0.85       323\n",
      "   macro avg       0.85      0.85      0.85       323\n",
      "weighted avg       0.85      0.85      0.85       323\n",
      "\n"
     ]
    }
   ],
   "source": [
    "from sklearn.svm import SVC\n",
    "svc = SVC()\n",
    "svc.fit(x_train,y_train)\n",
    "predsvc = svc.predict(x_test)\n",
    "\n",
    "print(accuracy_score(y_test, predsvc))\n",
    "print(confusion_matrix(y_test, predsvc))\n",
    "print(classification_report(y_test,predsvc))"
   ]
  },
  {
   "cell_type": "markdown",
   "id": "4219c820",
   "metadata": {},
   "source": [
    "Here we are getting 84% Accuracy"
   ]
  },
  {
   "cell_type": "markdown",
   "id": "b4bc474f",
   "metadata": {},
   "source": [
    "# Logistic Regression"
   ]
  },
  {
   "cell_type": "code",
   "execution_count": 86,
   "id": "3977aca2",
   "metadata": {},
   "outputs": [
    {
     "name": "stdout",
     "output_type": "stream",
     "text": [
      "0.826625386996904\n",
      "[[129  25]\n",
      " [ 31 138]]\n",
      "              precision    recall  f1-score   support\n",
      "\n",
      "           0       0.81      0.84      0.82       154\n",
      "           1       0.85      0.82      0.83       169\n",
      "\n",
      "    accuracy                           0.83       323\n",
      "   macro avg       0.83      0.83      0.83       323\n",
      "weighted avg       0.83      0.83      0.83       323\n",
      "\n"
     ]
    }
   ],
   "source": [
    "LR = LogisticRegression()\n",
    "LR.fit(x_train,y_train)\n",
    "predLR = LR.predict(x_test)\n",
    "\n",
    "print(accuracy_score(y_test, predLR))\n",
    "print(confusion_matrix(y_test, predLR))\n",
    "print(classification_report(y_test,predLR))"
   ]
  },
  {
   "cell_type": "markdown",
   "id": "d65742fc",
   "metadata": {},
   "source": [
    "Here we are getting 82% Accuracy"
   ]
  },
  {
   "cell_type": "markdown",
   "id": "9679439d",
   "metadata": {},
   "source": [
    "# Cross Validation"
   ]
  },
  {
   "cell_type": "code",
   "execution_count": 87,
   "id": "8b3a5728",
   "metadata": {},
   "outputs": [],
   "source": [
    "from sklearn.model_selection import cross_val_score\n"
   ]
  },
  {
   "cell_type": "code",
   "execution_count": 89,
   "id": "f0d0e8b8",
   "metadata": {},
   "outputs": [
    {
     "name": "stdout",
     "output_type": "stream",
     "text": [
      "DecisionTree:- 0.8119973918713322\n",
      "Random Forest:- 0.8566659421864811\n",
      "SVC:- 0.8315235818300369\n",
      "Logistic Regression:- 0.8026602912410346\n"
     ]
    }
   ],
   "source": [
    "print('DecisionTree:-',cross_val_score(DT,x,y,cv=5).mean())\n",
    "print('Random Forest:-',cross_val_score(RF,x,y,cv=5).mean())\n",
    "print('SVC:-',cross_val_score(svc,x,y,cv=5).mean())\n",
    "print('Logistic Regression:-',cross_val_score(LR,x,y,cv=5).mean())"
   ]
  },
  {
   "cell_type": "markdown",
   "id": "c94bc2d9",
   "metadata": {},
   "source": [
    "Form the above we observe that Random Forest is our best fit model"
   ]
  },
  {
   "cell_type": "markdown",
   "id": "c23ae4ff",
   "metadata": {},
   "source": [
    "# Hyper parameter tuning for best model"
   ]
  },
  {
   "cell_type": "code",
   "execution_count": 92,
   "id": "fec03abc",
   "metadata": {},
   "outputs": [],
   "source": [
    "from sklearn.model_selection import GridSearchCV\n",
    "parameters = {'n_estimators':[0,200],\n",
    "             'criterion':['gini','entropy'],\n",
    "             'max_depth':np.arange(2,50),\n",
    "             'max_features':[\"auto\",\"sqrt\",\"log2\"],\n",
    "             'max_leaf_nodes':[10,20,30,40]}"
   ]
  },
  {
   "cell_type": "code",
   "execution_count": 93,
   "id": "56a394c5",
   "metadata": {},
   "outputs": [],
   "source": [
    "GCV=GridSearchCV(RandomForestClassifier(),parameters,cv=5)"
   ]
  },
  {
   "cell_type": "code",
   "execution_count": 94,
   "id": "e8a8800c",
   "metadata": {},
   "outputs": [
    {
     "data": {
      "text/plain": [
       "GridSearchCV(cv=5, estimator=RandomForestClassifier(),\n",
       "             param_grid={'criterion': ['gini', 'entropy'],\n",
       "                         'max_depth': array([ 2,  3,  4,  5,  6,  7,  8,  9, 10, 11, 12, 13, 14, 15, 16, 17, 18,\n",
       "       19, 20, 21, 22, 23, 24, 25, 26, 27, 28, 29, 30, 31, 32, 33, 34, 35,\n",
       "       36, 37, 38, 39, 40, 41, 42, 43, 44, 45, 46, 47, 48, 49]),\n",
       "                         'max_features': ['auto', 'sqrt', 'log2'],\n",
       "                         'max_leaf_nodes': [10, 20, 30, 40],\n",
       "                         'n_estimators': [0, 200]})"
      ]
     },
     "execution_count": 94,
     "metadata": {},
     "output_type": "execute_result"
    }
   ],
   "source": [
    "GCV.fit(x_train,y_train)"
   ]
  },
  {
   "cell_type": "code",
   "execution_count": 95,
   "id": "77a70425",
   "metadata": {},
   "outputs": [
    {
     "data": {
      "text/plain": [
       "{'criterion': 'gini',\n",
       " 'max_depth': 30,\n",
       " 'max_features': 'log2',\n",
       " 'max_leaf_nodes': 40,\n",
       " 'n_estimators': 200}"
      ]
     },
     "execution_count": 95,
     "metadata": {},
     "output_type": "execute_result"
    }
   ],
   "source": [
    "GCV.best_params_\n"
   ]
  },
  {
   "cell_type": "code",
   "execution_count": 96,
   "id": "6fed788e",
   "metadata": {},
   "outputs": [
    {
     "name": "stdout",
     "output_type": "stream",
     "text": [
      "86.687306501548\n"
     ]
    }
   ],
   "source": [
    "Titanic_survived = RandomForestClassifier(criterion='entropy',max_depth=30, max_features='auto', max_leaf_nodes=40, n_estimators=200)\n",
    "Titanic_survived.fit(x_train, y_train)\n",
    "pred = Titanic_survived.predict(x_test)\n",
    "acc=accuracy_score(y_test,pred)\n",
    "print(acc*100)"
   ]
  },
  {
   "cell_type": "markdown",
   "id": "c7a8915f",
   "metadata": {},
   "source": [
    "Here final model gives 86% accuracy"
   ]
  },
  {
   "cell_type": "markdown",
   "id": "4b5d27d8",
   "metadata": {},
   "source": [
    "# Roc Auc"
   ]
  },
  {
   "cell_type": "code",
   "execution_count": 98,
   "id": "2682865f",
   "metadata": {},
   "outputs": [
    {
     "data": {
      "image/png": "[encoded data removed]",
      "text/plain": [
       "<Figure size 432x288 with 1 Axes>"
      ]
     },
     "metadata": {
      "needs_background": "light"
     },
     "output_type": "display_data"
    }
   ],
   "source": [
    "from sklearn.metrics import classification_report, confusion_matrix, roc_curve, roc_auc_score, accuracy_score\n",
    "fpr, tpr, threshold = roc_curve(y_test,pred)\n",
    "auc = roc_auc_score(y_test,pred)\n",
    "plt.plot(fpr, tpr, color ='orange', label ='ROC')\n",
    "plt.plot([0, 1], [0, 1], color='darkblue', linestyle='--', label ='ROC curve (area = %0.3f)'% auc)\n",
    "plt.xlabel('False Positive Rate')\n",
    "plt.ylabel('True Positive Rate')\n",
    "plt.legend()\n",
    "plt.show()"
   ]
  },
  {
   "cell_type": "markdown",
   "id": "dc5f26b3",
   "metadata": {},
   "source": [
    "This is the AUC-ROC curve for the models which is plotted False positive rate against True positive rate.\n",
    "\n",
    "So the best model has the area under curve as 0.86."
   ]
  },
  {
   "cell_type": "markdown",
   "id": "b2606372",
   "metadata": {},
   "source": [
    "# Saving the Model"
   ]
  },
  {
   "cell_type": "code",
   "execution_count": 99,
   "id": "2e261a19",
   "metadata": {},
   "outputs": [
    {
     "data": {
      "text/plain": [
       "['Titanic.obj']"
      ]
     },
     "execution_count": 99,
     "metadata": {},
     "output_type": "execute_result"
    }
   ],
   "source": [
    "import joblib\n",
    "\n",
    "joblib.dump(Titanic_survived,'Titanic.obj')"
   ]
  },
  {
   "cell_type": "code",
   "execution_count": 100,
   "id": "9b7a6c8b",
   "metadata": {},
   "outputs": [],
   "source": [
    "ts_model = joblib.load('Titanic.obj')\n"
   ]
  },
  {
   "cell_type": "markdown",
   "id": "4622784d",
   "metadata": {},
   "source": [
    "# Conclusion"
   ]
  },
  {
   "cell_type": "code",
   "execution_count": 101,
   "id": "5a01bebb",
   "metadata": {},
   "outputs": [
    {
     "data": {
      "text/html": [
       "<div>\n",
       "<style scoped>\n",
       "    .dataframe tbody tr th:only-of-type {\n",
       "        vertical-align: middle;\n",
       "    }\n",
       "\n",
       "    .dataframe tbody tr th {\n",
       "        vertical-align: top;\n",
       "    }\n",
       "\n",
       "    .dataframe thead th {\n",
       "        text-align: right;\n",
       "    }\n",
       "</style>\n",
       "<table border=\"1\" class=\"dataframe\">\n",
       "  <thead>\n",
       "    <tr style=\"text-align: right;\">\n",
       "      <th></th>\n",
       "      <th>Original</th>\n",
       "      <th>Predicted</th>\n",
       "    </tr>\n",
       "  </thead>\n",
       "  <tbody>\n",
       "    <tr>\n",
       "      <th>0</th>\n",
       "      <td>1</td>\n",
       "      <td>0</td>\n",
       "    </tr>\n",
       "    <tr>\n",
       "      <th>1</th>\n",
       "      <td>1</td>\n",
       "      <td>1</td>\n",
       "    </tr>\n",
       "    <tr>\n",
       "      <th>2</th>\n",
       "      <td>0</td>\n",
       "      <td>0</td>\n",
       "    </tr>\n",
       "    <tr>\n",
       "      <th>3</th>\n",
       "      <td>0</td>\n",
       "      <td>0</td>\n",
       "    </tr>\n",
       "    <tr>\n",
       "      <th>4</th>\n",
       "      <td>0</td>\n",
       "      <td>0</td>\n",
       "    </tr>\n",
       "    <tr>\n",
       "      <th>...</th>\n",
       "      <td>...</td>\n",
       "      <td>...</td>\n",
       "    </tr>\n",
       "    <tr>\n",
       "      <th>318</th>\n",
       "      <td>1</td>\n",
       "      <td>1</td>\n",
       "    </tr>\n",
       "    <tr>\n",
       "      <th>319</th>\n",
       "      <td>0</td>\n",
       "      <td>0</td>\n",
       "    </tr>\n",
       "    <tr>\n",
       "      <th>320</th>\n",
       "      <td>1</td>\n",
       "      <td>1</td>\n",
       "    </tr>\n",
       "    <tr>\n",
       "      <th>321</th>\n",
       "      <td>0</td>\n",
       "      <td>0</td>\n",
       "    </tr>\n",
       "    <tr>\n",
       "      <th>322</th>\n",
       "      <td>1</td>\n",
       "      <td>1</td>\n",
       "    </tr>\n",
       "  </tbody>\n",
       "</table>\n",
       "<p>323 rows × 2 columns</p>\n",
       "</div>"
      ],
      "text/plain": [
       "     Original  Predicted\n",
       "0           1          0\n",
       "1           1          1\n",
       "2           0          0\n",
       "3           0          0\n",
       "4           0          0\n",
       "..        ...        ...\n",
       "318         1          1\n",
       "319         0          0\n",
       "320         1          1\n",
       "321         0          0\n",
       "322         1          1\n",
       "\n",
       "[323 rows x 2 columns]"
      ]
     },
     "execution_count": 101,
     "metadata": {},
     "output_type": "execute_result"
    }
   ],
   "source": [
    "import numpy as np\n",
    "a = np.array(y_test)\n",
    "predicted = np.array(Titanic_survived.predict(x_test))\n",
    "df_new = pd.DataFrame({\"Original\":a,\"Predicted\":predicted},index= range(len(a)))\n",
    "df_new\n"
   ]
  },
  {
   "cell_type": "code",
   "execution_count": null,
   "id": "6d2db29b",
   "metadata": {},
   "outputs": [],
   "source": []
  }
 ],
 "metadata": {
  "kernelspec": {
   "display_name": "Python 3",
   "language": "python",
   "name": "python3"
  },
  "language_info": {
   "codemirror_mode": {
    "name": "ipython",
    "version": 3
   },
   "file_extension": ".py",
   "mimetype": "text/x-python",
   "name": "python",
   "nbconvert_exporter": "python",
   "pygments_lexer": "ipython3",
   "version": "3.8.8"
  }
 },
 "nbformat": 4,
 "nbformat_minor": 5
}
